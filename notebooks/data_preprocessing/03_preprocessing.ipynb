{
 "cells": [
  {
   "cell_type": "markdown",
   "id": "fc7ea45b",
   "metadata": {},
   "source": [
    "---\n",
    "# ❗❗ 참고 사항\n",
    "본인 PC에서는 돌아가지 않아서 지인의 PC에서 아래 이미지 증강 코드를 부탁해 돌렸습니다.\n",
    "\n",
    "```python\n",
    "import os\n",
    "import shutil\n",
    "from tensorflow.keras.preprocessing.image import ImageDataGenerator, load_img, img_to_array\n",
    "\n",
    "ORIG_ROOT = r\"D:\\Downloads\\resized_images\"\n",
    "AUG_ROOT  = r\"D:\\Downloads\\augmented_resized_images\"\n",
    "n_aug_per_image = 2  # 원본 1장 당 증강본을 몇 개 생성할지\n",
    "\n",
    "# ─── 2. ImageDataGenerator 설정 ────────────────────────────────────────────\n",
    "datagen = ImageDataGenerator(\n",
    "    rescale=1.0/255.0,\n",
    "    brightness_range=[0.3, 1.0],\n",
    "    zoom_range=0.3,           \n",
    "    fill_mode=\"nearest\"\n",
    ")\n",
    "\n",
    "os.makedirs(AUG_ROOT, exist_ok=True)\n",
    "\n",
    "all_filenames = [\n",
    "    fn for fn in os.listdir(ORIG_ROOT)\n",
    "    if fn.lower().endswith((\".jpg\", \".jpeg\", \".png\"))\n",
    "]\n",
    "\n",
    "for fname in all_filenames:\n",
    "    orig_path = os.path.join(ORIG_ROOT, fname)\n",
    "    \n",
    "    img = load_img(orig_path, target_size=(224, 224))\n",
    "    x = img_to_array(img)  # (224, 224, 3), float32\n",
    "    x = x.reshape((1,) + x.shape)  # (1, 224, 224, 3)\n",
    "\n",
    "    # n_aug_per_image만큼 증강본 생성\n",
    "    aug_count = 0\n",
    "    for batch in datagen.flow(\n",
    "        x,\n",
    "        batch_size=1,\n",
    "        save_to_dir=AUG_ROOT,\n",
    "        save_prefix=f\"aug_{os.path.splitext(fname)[0]}\",\n",
    "        save_format=\"jpg\"\n",
    "    ):\n",
    "        aug_count += 1\n",
    "        if aug_count >= n_aug_per_image:\n",
    "            break\n",
    "\n",
    "    # 원본+증강\n",
    "    shutil.copy(orig_path, os.path.join(AUG_ROOT, fname))\n",
    "\n",
    "print(\"증강 완료\")\n",
    "```\n",
    "---"
   ]
  },
  {
   "cell_type": "code",
   "execution_count": 1,
   "id": "1ea03c02",
   "metadata": {},
   "outputs": [],
   "source": [
    "import pandas as pd\n",
    "import os"
   ]
  },
  {
   "cell_type": "code",
   "execution_count": null,
   "id": "9cc479ae",
   "metadata": {},
   "outputs": [],
   "source": [
    "df=pd.read_csv(\"../../data/processed/02_processed_data/ALL_labels.csv\")\n",
    "AUG_DIR=\"../../data/processed/03_processed_data/resized_images_final\""
   ]
  },
  {
   "cell_type": "code",
   "execution_count": null,
   "id": "c21cf165",
   "metadata": {},
   "outputs": [
    {
     "name": "stdout",
     "output_type": "stream",
     "text": [
      "CSV 확장 완료:\n",
      "원본 44151 -> 증강 후 132472 행\n"
     ]
    }
   ],
   "source": [
    "new_rows = []\n",
    "for idx, row in df.iterrows():\n",
    "    original_name=row[\"filename\"]  # \"F0001_IND_D_18_-45_01.JPG\"\n",
    "    base, _=os.path.splitext(original_name)  # \"F0001_IND_D_18_-45_01\"\n",
    "    # 같은 폴더 내에서 aug_F0001_IND_D_18_-45_01_*.jpg 검색\n",
    "    prefix=f\"aug_{base}\"\n",
    "    for aug_fname in os.listdir(AUG_DIR):\n",
    "        if aug_fname.startswith(prefix) and aug_fname.lower().endswith(\".jpg\"):\n",
    "            # 증강본이 맞으면 원본 라벨과 동일한 딕셔너리로 새로운 행 생성\n",
    "            new_row=row.copy()\n",
    "            new_row[\"filename\"]=aug_fname\n",
    "            new_rows.append(new_row)\n",
    "\n",
    "if new_rows:\n",
    "    df_aug=pd.concat([df, pd.DataFrame(new_rows)], ignore_index=True)\n",
    "else:\n",
    "    df_aug=df.copy()\n",
    "\n",
    "df_aug.to_csv(\"../../data/processed/03_processed_data/ALL_labels_with_augmented.csv\", index=False)\n",
    "print(f\"CSV 확장 완료:\\n원본 {len(df)} -> 증강 후 {len(df_aug)} 행\")"
   ]
  },
  {
   "cell_type": "code",
   "execution_count": null,
   "id": "f2361429",
   "metadata": {},
   "outputs": [],
   "source": []
  }
 ],
 "metadata": {
  "kernelspec": {
   "display_name": "fourthENV",
   "language": "python",
   "name": "python3"
  },
  "language_info": {
   "codemirror_mode": {
    "name": "ipython",
    "version": 3
   },
   "file_extension": ".py",
   "mimetype": "text/x-python",
   "name": "python",
   "nbconvert_exporter": "python",
   "pygments_lexer": "ipython3",
   "version": "3.10.16"
  }
 },
 "nbformat": 4,
 "nbformat_minor": 5
}
