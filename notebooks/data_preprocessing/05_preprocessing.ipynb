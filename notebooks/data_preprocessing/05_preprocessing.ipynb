{
 "cells": [
  {
   "cell_type": "code",
   "execution_count": 9,
   "id": "4d3dbcc3",
   "metadata": {},
   "outputs": [],
   "source": [
    "import os\n",
    "import random\n",
    "import numpy as np\n",
    "import pandas as pd\n",
    "from PIL import Image\n",
    "from tqdm import tqdm\n",
    "import matplotlib.pyplot as plt\n",
    "\n",
    "# PyTorch용 증강 라이브러리\n",
    "import torchvision.transforms as T\n",
    "\n",
    "# sklearn for stratified split\n",
    "from sklearn.model_selection import train_test_split"
   ]
  },
  {
   "cell_type": "code",
   "execution_count": 10,
   "id": "dbfd7029",
   "metadata": {},
   "outputs": [],
   "source": [
    "RAW_TRAIN=\"../../data/raw/T_image_data\"\n",
    "RAW_VAL=\"../../data/raw/V_image_data\"\n",
    "SAVE_DIR=\"../../data/processed/04_processed_data\"\n",
    "os.makedirs(f\"{SAVE_DIR}/images\", exist_ok=True)\n",
    "\n",
    "SEED=42\n",
    "random.seed(SEED)\n",
    "np.random.seed(SEED)"
   ]
  },
  {
   "cell_type": "code",
   "execution_count": 11,
   "id": "f6fc9f12",
   "metadata": {},
   "outputs": [],
   "source": [
    "# 성별 매핑\n",
    "sex_Male_list=[\"GF\", \"F\", \"S\", \"S1\", \"S2\", \"S3\", \"S4\"]\n",
    "sex_Female_list=[\"GM\", \"M\", \"D\", \"D1\", \"D2\", \"D3\", \"D4\"]"
   ]
  },
  {
   "cell_type": "code",
   "execution_count": 12,
   "id": "9956e698",
   "metadata": {},
   "outputs": [
    {
     "name": "stdout",
     "output_type": "stream",
     "text": [
      "총 9520장 수집 완료\n"
     ]
    },
    {
     "data": {
      "text/html": [
       "<div>\n",
       "<style scoped>\n",
       "    .dataframe tbody tr th:only-of-type {\n",
       "        vertical-align: middle;\n",
       "    }\n",
       "\n",
       "    .dataframe tbody tr th {\n",
       "        vertical-align: top;\n",
       "    }\n",
       "\n",
       "    .dataframe thead th {\n",
       "        text-align: right;\n",
       "    }\n",
       "</style>\n",
       "<table border=\"1\" class=\"dataframe\">\n",
       "  <thead>\n",
       "    <tr style=\"text-align: right;\">\n",
       "      <th></th>\n",
       "      <th>filename</th>\n",
       "      <th>gender</th>\n",
       "      <th>age_group</th>\n",
       "      <th>folder</th>\n",
       "    </tr>\n",
       "  </thead>\n",
       "  <tbody>\n",
       "    <tr>\n",
       "      <th>0</th>\n",
       "      <td>F0204_IND_D_15_0_03.JPG</td>\n",
       "      <td>female</td>\n",
       "      <td>10s</td>\n",
       "      <td>../../data/raw/T_image_data</td>\n",
       "    </tr>\n",
       "    <tr>\n",
       "      <th>1</th>\n",
       "      <td>F0465_IND_D_12_0_02.JPG</td>\n",
       "      <td>female</td>\n",
       "      <td>10s</td>\n",
       "      <td>../../data/raw/T_image_data</td>\n",
       "    </tr>\n",
       "    <tr>\n",
       "      <th>2</th>\n",
       "      <td>F0039_IND_D_14_0_04.JPG</td>\n",
       "      <td>female</td>\n",
       "      <td>10s</td>\n",
       "      <td>../../data/raw/T_image_data</td>\n",
       "    </tr>\n",
       "    <tr>\n",
       "      <th>3</th>\n",
       "      <td>F0239_IND_F_47_0_01.JPG</td>\n",
       "      <td>male</td>\n",
       "      <td>40s</td>\n",
       "      <td>../../data/raw/T_image_data</td>\n",
       "    </tr>\n",
       "    <tr>\n",
       "      <th>4</th>\n",
       "      <td>F0304_IND_M_48_0_05.JPG</td>\n",
       "      <td>female</td>\n",
       "      <td>40s</td>\n",
       "      <td>../../data/raw/T_image_data</td>\n",
       "    </tr>\n",
       "  </tbody>\n",
       "</table>\n",
       "</div>"
      ],
      "text/plain": [
       "                  filename  gender age_group                       folder\n",
       "0  F0204_IND_D_15_0_03.JPG  female       10s  ../../data/raw/T_image_data\n",
       "1  F0465_IND_D_12_0_02.JPG  female       10s  ../../data/raw/T_image_data\n",
       "2  F0039_IND_D_14_0_04.JPG  female       10s  ../../data/raw/T_image_data\n",
       "3  F0239_IND_F_47_0_01.JPG    male       40s  ../../data/raw/T_image_data\n",
       "4  F0304_IND_M_48_0_05.JPG  female       40s  ../../data/raw/T_image_data"
      ]
     },
     "execution_count": 12,
     "metadata": {},
     "output_type": "execute_result"
    }
   ],
   "source": [
    "all_labels=[]\n",
    "\n",
    "def age_to_group(age):\n",
    "    if age < 10:\n",
    "        return \"0s\"\n",
    "    elif age < 20:\n",
    "        return \"10s\"\n",
    "    elif age < 30:\n",
    "        return \"20s\"\n",
    "    elif age < 40:\n",
    "        return \"30s\"\n",
    "    elif age < 50:\n",
    "        return \"40s\"\n",
    "    elif age < 60:\n",
    "        return \"50s\"\n",
    "    else:\n",
    "        return \"60+\"\n",
    "\n",
    "def process_folder(folder):\n",
    "    for file in os.listdir(folder):\n",
    "        if not (file.endswith(\".jpg\") or file.endswith(\".JPG\")):\n",
    "            continue\n",
    "\n",
    "        parts=file.split(\"_\")\n",
    "        gender_code=parts[2]\n",
    "        age=int(parts[3])\n",
    "\n",
    "        if gender_code in sex_Male_list:\n",
    "            gender=\"male\"\n",
    "        elif gender_code in sex_Female_list:\n",
    "            gender=\"female\"\n",
    "        else:\n",
    "            continue\n",
    "\n",
    "        age_group=age_to_group(age)\n",
    "\n",
    "        all_labels.append({\n",
    "            \"filename\":file,\n",
    "            \"gender\":gender,\n",
    "            \"age_group\":age_group,\n",
    "            \"folder\":folder\n",
    "        })\n",
    "\n",
    "process_folder(RAW_TRAIN)\n",
    "process_folder(RAW_VAL)\n",
    "\n",
    "labels_df=pd.DataFrame(all_labels)\n",
    "print(f\"총 {len(labels_df)}장 수집 완료\")\n",
    "labels_df.head()"
   ]
  },
  {
   "cell_type": "code",
   "execution_count": 13,
   "id": "9aa36b0f",
   "metadata": {},
   "outputs": [
    {
     "name": "stdout",
     "output_type": "stream",
     "text": [
      "group\n",
      "female_10s    1844\n",
      "male_10s      1792\n",
      "female_40s    1072\n",
      "female_60+     833\n",
      "female_20s     701\n",
      "male_40s       676\n",
      "male_50s       544\n",
      "male_20s       536\n",
      "female_50s     521\n",
      "male_60+       448\n",
      "female_30s     265\n",
      "male_30s       168\n",
      "female_0s       60\n",
      "male_0s         60\n",
      "Name: count, dtype: int64\n"
     ]
    },
    {
     "data": {
      "image/png": "[encoded data removed]",
      "text/plain": [
       "<Figure size 800x600 with 1 Axes>"
      ]
     },
     "metadata": {},
     "output_type": "display_data"
    }
   ],
   "source": [
    "labels_df[\"group\"]=labels_df[\"gender\"] + \"_\" + labels_df[\"age_group\"]\n",
    "\n",
    "group_counts=labels_df[\"group\"].value_counts()\n",
    "print(group_counts)\n",
    "\n",
    "plt.figure(figsize=(8, 6))\n",
    "group_counts.plot(kind=\"bar\")\n",
    "plt.title(\"Gender + Age Group\")\n",
    "plt.ylabel(\"Count\")\n",
    "plt.show()"
   ]
  },
  {
   "cell_type": "code",
   "execution_count": 14,
   "id": "f39e6d71",
   "metadata": {},
   "outputs": [
    {
     "name": "stdout",
     "output_type": "stream",
     "text": [
      "각 그룹을 1844장으로 맞춤\n"
     ]
    },
    {
     "name": "stderr",
     "output_type": "stream",
     "text": [
      "14it [1:08:01, 291.52s/it]"
     ]
    },
    {
     "name": "stdout",
     "output_type": "stream",
     "text": [
      "증강 이미지 16296장 생성 완료\n"
     ]
    },
    {
     "name": "stderr",
     "output_type": "stream",
     "text": [
      "\n"
     ]
    }
   ],
   "source": [
    "target_count=group_counts.max()\n",
    "print(f\"각 그룹을 {target_count}장으로 맞춤\")\n",
    "\n",
    "transform=T.Compose([\n",
    "    T.RandomHorizontalFlip(p=0.5),\n",
    "    T.ColorJitter(brightness=0.2, contrast=0.2, saturation=0.2),\n",
    "    T.RandomRotation(15),\n",
    "    T.ToTensor()\n",
    "])\n",
    "\n",
    "augmented_labels=[]\n",
    "\n",
    "for group_name, count in tqdm(group_counts.items()):\n",
    "    need_count=target_count - count\n",
    "    if need_count <= 0:\n",
    "        continue\n",
    "\n",
    "    group_df=labels_df[labels_df[\"group\"]==group_name]\n",
    "\n",
    "    for i in range(need_count):\n",
    "        row=group_df.sample(1, random_state=SEED+i).iloc[0]\n",
    "\n",
    "        img_path=os.path.join(row[\"folder\"], row[\"filename\"])\n",
    "        img=Image.open(img_path).convert(\"RGB\")\n",
    "\n",
    "        aug_img=transform(img)\n",
    "        aug_img=T.ToPILImage()(aug_img)\n",
    "\n",
    "        save_name=f\"AUG_{group_name}_{i}_{row['filename']}\"\n",
    "        aug_img.save(f\"{SAVE_DIR}/images/{save_name}\")\n",
    "\n",
    "        augmented_labels.append({\n",
    "            \"filename\":save_name,\n",
    "            \"gender\":row[\"gender\"],\n",
    "            \"age_group\":row[\"age_group\"],\n",
    "            \"folder\":f\"{SAVE_DIR}/images\",\n",
    "            \"group\":group_name\n",
    "        })\n",
    "\n",
    "print(f\"증강 이미지 {len(augmented_labels)}장 생성 완료\")"
   ]
  },
  {
   "cell_type": "code",
   "execution_count": 15,
   "id": "4f6587ba",
   "metadata": {},
   "outputs": [
    {
     "data": {
      "image/png": "[encoded data removed]",
      "text/plain": [
       "<Figure size 800x600 with 1 Axes>"
      ]
     },
     "metadata": {},
     "output_type": "display_data"
    }
   ],
   "source": [
    "aug_df=pd.DataFrame(augmented_labels)\n",
    "total_df=pd.concat([labels_df, aug_df], ignore_index=True)\n",
    "\n",
    "total_counts=total_df[\"group\"].value_counts()\n",
    "\n",
    "plt.figure(figsize=(8, 6))\n",
    "total_counts.plot(kind=\"bar\")\n",
    "plt.title(\"Gender + Age Group\")\n",
    "plt.ylabel(\"Count\")\n",
    "plt.show()"
   ]
  },
  {
   "cell_type": "code",
   "execution_count": 16,
   "id": "f60910e1",
   "metadata": {},
   "outputs": [
    {
     "name": "stderr",
     "output_type": "stream",
     "text": [
      "  0%|          | 0/25816 [00:00<?, ?it/s]"
     ]
    },
    {
     "name": "stderr",
     "output_type": "stream",
     "text": [
      "100%|██████████| 25816/25816 [09:50<00:00, 43.72it/s]   \n"
     ]
    },
    {
     "name": "stdout",
     "output_type": "stream",
     "text": [
      "최종 라벨 CSV 저장 완료 (25816장)\n"
     ]
    }
   ],
   "source": [
    "multi_labels=[]\n",
    "\n",
    "for _, row in tqdm(total_df.iterrows(), total=len(total_df)):\n",
    "    src=os.path.join(row[\"folder\"], row[\"filename\"])\n",
    "    dst=os.path.join(SAVE_DIR, \"images\", row[\"filename\"])\n",
    "\n",
    "    if not os.path.exists(dst):\n",
    "        Image.open(src).save(dst)\n",
    "\n",
    "    male=1 if row[\"gender\"]==\"male\" else 0\n",
    "    female=1 if row[\"gender\"]==\"female\" else 0\n",
    "\n",
    "    age_labels={\"0s\":0, \"10s\":0, \"20s\":0, \"30s\":0, \"40s\":0, \"50s\":0, \"60+\":0}\n",
    "    age_labels[row[\"age_group\"]]=1\n",
    "\n",
    "    multi_labels.append({\n",
    "        \"filename\":row[\"filename\"],\n",
    "        \"male\":male,\n",
    "        \"female\":female,\n",
    "        **age_labels\n",
    "    })\n",
    "\n",
    "final_labels=pd.DataFrame(multi_labels)\n",
    "final_labels.to_csv(f\"{SAVE_DIR}/all_labels.csv\", index=False)\n",
    "print(f\"최종 라벨 CSV 저장 완료 ({len(final_labels)}장)\")"
   ]
  },
  {
   "cell_type": "code",
   "execution_count": 17,
   "id": "69e09b0c",
   "metadata": {},
   "outputs": [
    {
     "name": "stdout",
     "output_type": "stream",
     "text": [
      "Train: 20652개, Val: 5164개 저장 완료\n"
     ]
    }
   ],
   "source": [
    "final_labels[\"stratify_col\"]=final_labels.apply(\n",
    "    lambda row: f\"{row['male']}_{[col for col in ['0s','10s','20s','30s','40s','50s','60+'] if row[col]==1][0]}\", axis=1\n",
    ")\n",
    "\n",
    "train_df, val_df=train_test_split(final_labels, test_size=0.2, stratify=final_labels[\"stratify_col\"], random_state=SEED)\n",
    "\n",
    "train_df.to_csv(f\"{SAVE_DIR}/train_labels.csv\", index=False)\n",
    "val_df.to_csv(f\"{SAVE_DIR}/val_labels.csv\", index=False)\n",
    "\n",
    "print(f\"Train: {len(train_df)}개, Val: {len(val_df)}개 저장 완료\")"
   ]
  },
  {
   "cell_type": "code",
   "execution_count": null,
   "id": "8e087117",
   "metadata": {},
   "outputs": [],
   "source": []
  }
 ],
 "metadata": {
  "kernelspec": {
   "display_name": "WSL_CUDA_PT01",
   "language": "python",
   "name": "python3"
  },
  "language_info": {
   "codemirror_mode": {
    "name": "ipython",
    "version": 3
   },
   "file_extension": ".py",
   "mimetype": "text/x-python",
   "name": "python",
   "nbconvert_exporter": "python",
   "pygments_lexer": "ipython3",
   "version": "3.10.18"
  }
 },
 "nbformat": 4,
 "nbformat_minor": 5
}
