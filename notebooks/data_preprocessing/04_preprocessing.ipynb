{
 "cells": [
  {
   "cell_type": "code",
   "execution_count": 1,
   "id": "b99409ed",
   "metadata": {},
   "outputs": [],
   "source": [
    "import os\n",
    "import shutil\n",
    "from tqdm import tqdm"
   ]
  },
  {
   "cell_type": "code",
   "execution_count": 2,
   "id": "90a8fbc5",
   "metadata": {},
   "outputs": [],
   "source": [
    "SRC_DIR=\"../../data/processed/03_processed_data/resized_images_final\"\n",
    "DST_DIR=\"../../data/processed/03_processed_data/only_frontal_images\"\n",
    "os.makedirs(DST_DIR, exist_ok=True)"
   ]
  },
  {
   "cell_type": "code",
   "execution_count": 3,
   "id": "a5294c80",
   "metadata": {},
   "outputs": [
    {
     "name": "stderr",
     "output_type": "stream",
     "text": [
      "정면 이미지만 필터링 중 ...: 100%|██████████| 132176/132176 [00:12<00:00, 10773.34it/s]\n"
     ]
    }
   ],
   "source": [
    "# 45도, 90도 삭제\n",
    "exclude_keywords=[\"_45_\", \"_-45_\", \"_90_\", \"_-90_\"]\n",
    "\n",
    "image_list=os.listdir(SRC_DIR)\n",
    "\n",
    "for filename in tqdm(image_list, desc=\"정면 이미지만 필터링 중 ...\"):\n",
    "    if any(keyword in filename for keyword in exclude_keywords): continue\n",
    "    src=os.path.join(SRC_DIR, filename)\n",
    "    dst=os.path.join(DST_DIR, filename)\n",
    "    shutil.copy2(src, dst)"
   ]
  },
  {
   "cell_type": "code",
   "execution_count": 4,
   "id": "f94e4226",
   "metadata": {},
   "outputs": [],
   "source": [
    "import pandas as pd"
   ]
  },
  {
   "cell_type": "code",
   "execution_count": 8,
   "id": "3178d414",
   "metadata": {},
   "outputs": [],
   "source": [
    "SRC_CSV=\"../../data/processed/03_processed_data/ALL_labels_with_augmented.csv\"\n",
    "DST_CSV=\"../../data/processed/03_processed_data/only_frontal_labels.csv\""
   ]
  },
  {
   "cell_type": "code",
   "execution_count": 9,
   "id": "eb8ed23a",
   "metadata": {},
   "outputs": [
    {
     "name": "stdout",
     "output_type": "stream",
     "text": [
      "정면 이미지에 해당하는 Labeling Data만 저장 완료\n"
     ]
    }
   ],
   "source": [
    "df=pd.read_csv(SRC_CSV)\n",
    "\n",
    "filtered_df=df[~df[\"filename\"].str.contains(\"|\".join(exclude_keywords))]\n",
    "\n",
    "filtered_df.to_csv(DST_CSV, index=False)\n",
    "print(f\"정면 이미지에 해당하는 Labeling Data만 저장 완료\")"
   ]
  },
  {
   "cell_type": "code",
   "execution_count": 10,
   "id": "a2ba7d7b",
   "metadata": {},
   "outputs": [
    {
     "name": "stdout",
     "output_type": "stream",
     "text": [
      "원본 CSV 행 수: 29123\n",
      "실제 존재하는 이미지 기준 행 수: 29122\n",
      "필터링된 CSV 저장 완료: ../../data/processed/03_processed_data/only_frontal_labels_filtered.csv\n"
     ]
    }
   ],
   "source": [
    "# 전체 이미지 파일 목록\n",
    "image_dir=\"../../data/processed/03_processed_data/only_frontal_images\"\n",
    "existing_images=set(os.listdir(image_dir))\n",
    "\n",
    "# CSV 로드\n",
    "csv_path=\"../../data/processed/03_processed_data/only_frontal_labels.csv\"\n",
    "df=pd.read_csv(csv_path)\n",
    "\n",
    "# 존재하는 이미지만 필터링\n",
    "filtered_df=df[df[\"filename\"].isin(existing_images)]\n",
    "\n",
    "print(f\"원본 CSV 행 수: {len(df)}\")\n",
    "print(f\"실제 존재하는 이미지 기준 행 수: {len(filtered_df)}\")\n",
    "\n",
    "# 저장\n",
    "filtered_csv_path=\"../../data/processed/03_processed_data/only_frontal_labels_filtered.csv\"\n",
    "filtered_df.to_csv(filtered_csv_path, index=False)\n",
    "print(f\"필터링된 CSV 저장 완료: {filtered_csv_path}\")"
   ]
  },
  {
   "cell_type": "code",
   "execution_count": null,
   "id": "66d1816f",
   "metadata": {},
   "outputs": [],
   "source": []
  }
 ],
 "metadata": {
  "kernelspec": {
   "display_name": "WSL_CUDA_PT01",
   "language": "python",
   "name": "python3"
  },
  "language_info": {
   "codemirror_mode": {
    "name": "ipython",
    "version": 3
   },
   "file_extension": ".py",
   "mimetype": "text/x-python",
   "name": "python",
   "nbconvert_exporter": "python",
   "pygments_lexer": "ipython3",
   "version": "3.10.18"
  }
 },
 "nbformat": 4,
 "nbformat_minor": 5
}
