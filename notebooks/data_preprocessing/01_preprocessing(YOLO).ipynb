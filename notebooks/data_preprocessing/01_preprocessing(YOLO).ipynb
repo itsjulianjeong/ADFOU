{
 "cells": [
  {
   "cell_type": "code",
   "execution_count": 4,
   "id": "d15cf14f",
   "metadata": {},
   "outputs": [],
   "source": [
    "import numpy as np\n",
    "import pandas as pd\n",
    "\n",
    "import os\n",
    "import shutil\n",
    "import io\n",
    "import json\n",
    "import zipfile\n",
    "import cv2\n",
    "from PIL import Image, ImageDraw\n",
    "\n",
    "from tqdm import tqdm\n",
    "from collections import Counter\n",
    "from sklearn.model_selection import train_test_split\n",
    "\n",
    "import seaborn as sns\n",
    "import matplotlib.pyplot as plt\n",
    "import matplotlib as mpl\n",
    "import matplotlib.image as mpimg\n",
    "mpl.rc(\"font\", family=\"Malgun Gothic\")\n",
    "plt.rcParams[\"axes.unicode_minus\"]=False"
   ]
  },
  {
   "cell_type": "markdown",
   "id": "3dc51e7c",
   "metadata": {},
   "source": [
    "# 1. TRAIN DATA Pre-Processing"
   ]
  },
  {
   "cell_type": "markdown",
   "id": "ac369ce5",
   "metadata": {},
   "source": [
    "## 1.1. TEST DATA\n",
    "> IMG/LABEL 확인"
   ]
  },
  {
   "cell_type": "code",
   "execution_count": 5,
   "id": "c2675a18",
   "metadata": {},
   "outputs": [],
   "source": [
    "TRAIN_IMG_PATH=r\"../../data/raw/training/image_data/\"\n",
    "TRAIN_LABEL_PATH=r\"../../data/raw/training/labeling_data/\"\n",
    "\n",
    "VAL_IMG_PATH=r\"../../data/raw/validation/image_data/\"\n",
    "VAL_LABEL_PATH=r\"../../data/raw/validation/labeling_data/\""
   ]
  },
  {
   "cell_type": "code",
   "execution_count": 7,
   "id": "44ca3a28",
   "metadata": {},
   "outputs": [],
   "source": [
    "# test용 jpg\n",
    "TEST_IMG_PATH = TRAIN_IMG_PATH + r\"F0001_IND_D_18_0_01.JPG\"\n",
    "\n",
    "img_color = cv2.imread(TEST_IMG_PATH, cv2.IMREAD_COLOR)\n",
    "#plt.imshow(cv2.cvtColor(img_color, cv2.COLOR_BGR2RGB))\n",
    "#plt.show()"
   ]
  },
  {
   "cell_type": "code",
   "execution_count": 8,
   "id": "59cfd4f0",
   "metadata": {},
   "outputs": [],
   "source": [
    "# test용 label\n",
    "TEST_LABEL_PATH = TRAIN_LABEL_PATH + r\"F0001_IND_D_18_0_01.json\"\n",
    "\n",
    "with open(TEST_LABEL_PATH, \"r\") as f:\n",
    "    json_data = json.load(f)\n",
    "#json_data\n",
    "\n",
    "# personal_id: D(Daughter) -> 성별(Female)\n",
    "# age: 18 -> 10대(10s)\n",
    "# keypoint: 중심점\n",
    "# boundingbox: 바운딩 박스"
   ]
  },
  {
   "cell_type": "code",
   "execution_count": 9,
   "id": "b04748b7",
   "metadata": {},
   "outputs": [
    {
     "data": {
      "text/plain": [
       "Text(0.5, 1.0, '구분: D / 나이: 18세')"
      ]
     },
     "execution_count": 9,
     "metadata": {},
     "output_type": "execute_result"
    },
    {
     "data": {
      "image/png": "[encoded data removed]",
      "text/plain": [
       "<Figure size 640x480 with 1 Axes>"
      ]
     },
     "metadata": {},
     "output_type": "display_data"
    }
   ],
   "source": [
    "# test img 파일에 json 파일 첨가\n",
    "\n",
    "# ========================================\n",
    "\n",
    "# PIL 이용\n",
    "# from PIL import Image, ImageDraw\n",
    "img=Image.open(TEST_IMG_PATH).convert(\"RGB\")\n",
    "draw=ImageDraw.Draw(img)\n",
    "\n",
    "# member -> regions -> keypoint/boundingbox\n",
    "member=json_data[\"member\"][0]\n",
    "regions=member[\"regions\"]\n",
    "\n",
    "# 1. keypoint(중심점)\n",
    "for keypoint in regions[0][\"keypoint\"]:\n",
    "    x, y=int(keypoint[\"x\"]), int(keypoint[\"y\"])\n",
    "    r=3\n",
    "    draw.ellipse((x-r, y-r, x+r, y+r), fill=\"red\")\n",
    "\n",
    "# 2. bounding box\n",
    "for b_box in regions[0][\"boundingbox\"]:\n",
    "    x, y, w, h=int(b_box[\"x\"]), int(b_box[\"y\"]), int(b_box[\"w\"]), int(b_box[\"h\"])\n",
    "    if b_box[\"idx\"] == \"0\":  # 얼굴 bounding box만 세로부분 늘리기 (위만, 아래는 그대로)\n",
    "        pad_y=100\n",
    "        new_y=max(y-pad_y, 0)\n",
    "        new_h=h+(y-new_y)\n",
    "        draw.rectangle((x, new_y, x+w, new_y+new_h), outline=\"blue\", width=2)\n",
    "    else:  # 나머지는 그대로\n",
    "        draw.rectangle((x, y, x+w, y+h), outline=\"blue\", width=2)\n",
    "\n",
    "# 3. 시각화\n",
    "plt.title(f\"구분: {member['personal_id']} / 나이: {member['age']}세\")\n",
    "#plt.imshow(img)\n",
    "#plt.show()"
   ]
  },
  {
   "cell_type": "markdown",
   "id": "ab645578",
   "metadata": {},
   "source": [
    "## 1.2. ZIP FILES"
   ]
  },
  {
   "cell_type": "code",
   "execution_count": null,
   "id": "83f009f6",
   "metadata": {},
   "outputs": [],
   "source": [
    "ZIP_IMG_PATH=TRAIN_IMG_PATH+r\"T_image_data.zip\"\n",
    "ZIP_LABEL_PATH=TRAIN_LABEL_PATH+r\"T_labeling_data.zip\"\n",
    "\n",
    "OUTPUT_DIR=\"../../data/processed/01_processed_data/training/cropped_faces\"\n",
    "os.makedirs(OUTPUT_DIR, exist_ok=True)"
   ]
  },
  {
   "cell_type": "code",
   "execution_count": 7,
   "id": "498a433b",
   "metadata": {},
   "outputs": [],
   "source": [
    "# 성별 mapping\n",
    "sex_Male_list=['GF', 'F', 'S', 'S1', 'S2', 'S3', 'S4']\n",
    "sex_Female_list=['GM', 'M', 'D', 'D1', 'D2', 'D3', 'D4']\n",
    "\n",
    "# G-: Grand-\n",
    "# F, -F: Father / M, -M: Mother\n",
    "# S, S-: Son / D, D-: Daughter"
   ]
  },
  {
   "cell_type": "code",
   "execution_count": 8,
   "id": "5c7c19e2",
   "metadata": {},
   "outputs": [],
   "source": [
    "# ZIP 파일 열기\n",
    "img_zip=zipfile.ZipFile(ZIP_IMG_PATH, \"r\")\n",
    "json_zip=zipfile.ZipFile(ZIP_LABEL_PATH, \"r\")\n",
    "img_names=[name for name in img_zip.namelist() if name.endswith(\".JPG\") or name.endswith(\".jpg\")]"
   ]
  },
  {
   "cell_type": "code",
   "execution_count": 9,
   "id": "0382f54c",
   "metadata": {},
   "outputs": [],
   "source": [
    "# 세로 길이 늘리기 함수\n",
    "def expand_boundingbox_vertical(y, h, image_height, pad_y=100):\n",
    "    new_y=max(y-pad_y, 0)\n",
    "    new_h=min(h+(y-new_y), image_height-new_y)\n",
    "    return new_y, new_h"
   ]
  },
  {
   "cell_type": "code",
   "execution_count": 10,
   "id": "311efe70",
   "metadata": {},
   "outputs": [],
   "source": [
    "# CSV 파일 저장용\n",
    "csv_rows=[]"
   ]
  },
  {
   "cell_type": "code",
   "execution_count": null,
   "id": "2a3d1b5e",
   "metadata": {},
   "outputs": [
    {
     "name": "stderr",
     "output_type": "stream",
     "text": [
      " 48%|████▊     | 19470/40951 [30:08<46:19,  7.73it/s]  "
     ]
    },
    {
     "name": "stdout",
     "output_type": "stream",
     "text": [
      "F0310_IND_D1_22_-90_01.JPG에서 에러발생: \"There is no item named 'F0310_IND_D1_22_-90_01.json' in the archive\"\n"
     ]
    },
    {
     "name": "stderr",
     "output_type": "stream",
     "text": [
      " 60%|██████    | 24770/40951 [41:14<31:46,  8.49it/s]  "
     ]
    },
    {
     "name": "stdout",
     "output_type": "stream",
     "text": [
      "F0390_IND_M_37_0_01..JPG에서 에러발생: \"There is no item named 'F0390_IND_M_37_0_01.json' in the archive\"\n"
     ]
    },
    {
     "name": "stderr",
     "output_type": "stream",
     "text": [
      "100%|██████████| 40951/40951 [1:10:34<00:00,  9.67it/s] \n"
     ]
    },
    {
     "name": "stdout",
     "output_type": "stream",
     "text": [
      "이미지 저장 및 labels.csv 생성 완료\n"
     ]
    }
   ],
   "source": [
    "for img_name in tqdm(img_names):\n",
    "    base_name=os.path.basename(img_name).split(\".\")[0]\n",
    "    json_name=base_name+\".json\"\n",
    "\n",
    "    try:\n",
    "        # 이미지 파일 로드\n",
    "        img_data=img_zip.read(img_name)\n",
    "        img=Image.open(io.BytesIO(img_data)).convert(\"RGB\")\n",
    "        img_width, img_height=img.size\n",
    "\n",
    "        # JSON 파일 로드\n",
    "        json_data=json.load(io.TextIOWrapper(json_zip.open(json_name), encoding=\"utf-8\"))\n",
    "        member=json_data[\"member\"][0]\n",
    "        regions=member[\"regions\"][0]\n",
    "\n",
    "        # 성별\n",
    "        personal_sex=member[\"personal_id\"].upper()\n",
    "        if personal_sex in sex_Male_list:\n",
    "            sex=\"male\"\n",
    "        elif personal_sex in sex_Female_list:\n",
    "            sex=\"female\"\n",
    "        else:\n",
    "            print(\"일치하는 성별이 없습니다!\")\n",
    "            continue\n",
    "\n",
    "        # 나이 클래스\n",
    "        age=int(member[\"age\"])\n",
    "        if age<20:\n",
    "            age_class=\"10s\"\n",
    "        elif age<30:\n",
    "            age_class=\"20s\"\n",
    "        elif age<40:\n",
    "            age_class=\"30s\"\n",
    "        elif age<50:\n",
    "            age_class=\"40s\"\n",
    "        elif age<60:\n",
    "            age_class=\"50s\"\n",
    "        else:\n",
    "            age_class=\"60s\"\n",
    "\n",
    "        # 얼굴 bounding box (idx == 0)\n",
    "        face_b_box = None\n",
    "        for b in regions[\"boundingbox\"]:\n",
    "            if b[\"idx\"] == \"0\":\n",
    "                face_b_box = b\n",
    "                break\n",
    "        x, y, w, h = int(face_b_box[\"x\"]), int(face_b_box[\"y\"]), int(face_b_box[\"w\"]), int(face_b_box[\"h\"])\n",
    "        y, h = expand_boundingbox_vertical(y, h, img_height)\n",
    "\n",
    "        # 보정: 이미지 경계를 넘지 않도록 제한\n",
    "        x = max(0, x)\n",
    "        y = max(0, y)\n",
    "        w = min(w, img_width - x)\n",
    "        h = min(h, img_height - y)\n",
    "\n",
    "        # crop + resize\n",
    "        cropped = img.crop((x, y, x + w, y + h)).resize((224, 224))\n",
    "        save_name = base_name + \".jpg\"\n",
    "        cropped.save(os.path.join(OUTPUT_DIR, save_name))\n",
    "\n",
    "        # CSV 라벨 기록\n",
    "        csv_rows.append({\"filename\": save_name, \"sex\": sex, \"age_class\": age_class})\n",
    "\n",
    "    except Exception as e:\n",
    "        print(f\"{img_name}에서 에러발생: {e}\")\n",
    "        continue\n",
    "\n",
    "# CSV 저장\n",
    "pd.DataFrame(csv_rows).to_csv(\"../../data/processed/01_processed_data/training/01_labels.csv\", index=False)\n",
    "print(\"이미지 저장 및 labels.csv 생성 완료\")"
   ]
  },
  {
   "cell_type": "markdown",
   "id": "b850e83f",
   "metadata": {},
   "source": [
    "## 1.3. EDA"
   ]
  },
  {
   "cell_type": "code",
   "execution_count": null,
   "id": "62d12a78",
   "metadata": {},
   "outputs": [
    {
     "name": "stdout",
     "output_type": "stream",
     "text": [
      "sex\n",
      "female    31248\n",
      "male      22776\n",
      "Name: count, dtype: int64 \n",
      "\n",
      "age_class\n",
      "10s    19478\n",
      "40s    11503\n",
      "60s     9244\n",
      "20s     5976\n",
      "50s     5427\n",
      "30s     2396\n",
      "Name: count, dtype: int64\n"
     ]
    },
    {
     "data": {
      "text/html": [
       "<div>\n",
       "<style scoped>\n",
       "    .dataframe tbody tr th:only-of-type {\n",
       "        vertical-align: middle;\n",
       "    }\n",
       "\n",
       "    .dataframe tbody tr th {\n",
       "        vertical-align: top;\n",
       "    }\n",
       "\n",
       "    .dataframe thead th {\n",
       "        text-align: right;\n",
       "    }\n",
       "</style>\n",
       "<table border=\"1\" class=\"dataframe\">\n",
       "  <thead>\n",
       "    <tr style=\"text-align: right;\">\n",
       "      <th></th>\n",
       "      <th>filename</th>\n",
       "      <th>sex</th>\n",
       "      <th>age_class</th>\n",
       "    </tr>\n",
       "  </thead>\n",
       "  <tbody>\n",
       "    <tr>\n",
       "      <th>0</th>\n",
       "      <td>F0001_IND_D_18_-45_01.jpg</td>\n",
       "      <td>female</td>\n",
       "      <td>10s</td>\n",
       "    </tr>\n",
       "    <tr>\n",
       "      <th>1</th>\n",
       "      <td>F0001_IND_D_18_-45_02.jpg</td>\n",
       "      <td>female</td>\n",
       "      <td>10s</td>\n",
       "    </tr>\n",
       "  </tbody>\n",
       "</table>\n",
       "</div>"
      ],
      "text/plain": [
       "                    filename     sex age_class\n",
       "0  F0001_IND_D_18_-45_01.jpg  female       10s\n",
       "1  F0001_IND_D_18_-45_02.jpg  female       10s"
      ]
     },
     "metadata": {},
     "output_type": "display_data"
    },
    {
     "data": {
      "text/html": [
       "<div>\n",
       "<style scoped>\n",
       "    .dataframe tbody tr th:only-of-type {\n",
       "        vertical-align: middle;\n",
       "    }\n",
       "\n",
       "    .dataframe tbody tr th {\n",
       "        vertical-align: top;\n",
       "    }\n",
       "\n",
       "    .dataframe thead th {\n",
       "        text-align: right;\n",
       "    }\n",
       "</style>\n",
       "<table border=\"1\" class=\"dataframe\">\n",
       "  <thead>\n",
       "    <tr style=\"text-align: right;\">\n",
       "      <th></th>\n",
       "      <th>filename</th>\n",
       "      <th>sex</th>\n",
       "      <th>age_class</th>\n",
       "    </tr>\n",
       "  </thead>\n",
       "  <tbody>\n",
       "    <tr>\n",
       "      <th>54022</th>\n",
       "      <td>F0800_IND_GM_80_90_01.jpg</td>\n",
       "      <td>female</td>\n",
       "      <td>60s</td>\n",
       "    </tr>\n",
       "    <tr>\n",
       "      <th>54023</th>\n",
       "      <td>F0800_IND_GM_80_90_02.jpg</td>\n",
       "      <td>female</td>\n",
       "      <td>60s</td>\n",
       "    </tr>\n",
       "  </tbody>\n",
       "</table>\n",
       "</div>"
      ],
      "text/plain": [
       "                        filename     sex age_class\n",
       "54022  F0800_IND_GM_80_90_01.jpg  female       60s\n",
       "54023  F0800_IND_GM_80_90_02.jpg  female       60s"
      ]
     },
     "metadata": {},
     "output_type": "display_data"
    }
   ],
   "source": [
    "df=pd.read_csv(\"../../data/processed/01_processed_data/training/01_labels.csv\")\n",
    "print(df['sex'].value_counts(),\"\\n\")\n",
    "print(df['age_class'].value_counts())\n",
    "display(df.head(2))\n",
    "display(df.tail(2))"
   ]
  },
  {
   "cell_type": "code",
   "execution_count": 3,
   "id": "ccc43860",
   "metadata": {},
   "outputs": [
    {
     "data": {
      "image/png": "[encoded data removed]",
      "text/plain": [
       "<Figure size 1200x500 with 2 Axes>"
      ]
     },
     "metadata": {},
     "output_type": "display_data"
    }
   ],
   "source": [
    "plt.figure(figsize=(12, 5))\n",
    "\n",
    "# 성별 파이차트\n",
    "plt.subplot(1, 2, 1)\n",
    "gender_counts = df['sex'].value_counts()\n",
    "plt.pie(gender_counts, labels=gender_counts.index, autopct='%1.1f%%', startangle=140, colors=[\"lightcoral\", \"skyblue\"])\n",
    "plt.title(\"Gender Distribution\")\n",
    "\n",
    "# 연령대 파이차트\n",
    "plt.subplot(1, 2, 2)\n",
    "age_counts = df['age_class'].value_counts().reindex(['10s','20s','30s','40s','50s','60s'])\n",
    "plt.pie(age_counts, labels=age_counts.index, autopct='%1.1f%%', startangle=140)\n",
    "plt.title(\"Age Class Distribution\")\n",
    "\n",
    "plt.tight_layout()\n",
    "plt.show()"
   ]
  },
  {
   "cell_type": "markdown",
   "id": "e3d5dc36",
   "metadata": {},
   "source": [
    "## 1.4. Re-structure for YOLOv8 Classification  \n",
    "> YOLOv8-cls 사용  \n",
    "> labels.csv와 cropped_faces/를 기반으로 train/val 디렉토리 내부에 클래스별 폴더를 생성하여 이미지를 복사  "
   ]
  },
  {
   "cell_type": "code",
   "execution_count": null,
   "id": "eab6142b",
   "metadata": {},
   "outputs": [
    {
     "data": {
      "text/html": [
       "<div>\n",
       "<style scoped>\n",
       "    .dataframe tbody tr th:only-of-type {\n",
       "        vertical-align: middle;\n",
       "    }\n",
       "\n",
       "    .dataframe tbody tr th {\n",
       "        vertical-align: top;\n",
       "    }\n",
       "\n",
       "    .dataframe thead th {\n",
       "        text-align: right;\n",
       "    }\n",
       "</style>\n",
       "<table border=\"1\" class=\"dataframe\">\n",
       "  <thead>\n",
       "    <tr style=\"text-align: right;\">\n",
       "      <th></th>\n",
       "      <th>filename</th>\n",
       "      <th>sex</th>\n",
       "      <th>age_class</th>\n",
       "    </tr>\n",
       "  </thead>\n",
       "  <tbody>\n",
       "    <tr>\n",
       "      <th>0</th>\n",
       "      <td>F0001_IND_D_18_-45_01.jpg</td>\n",
       "      <td>female</td>\n",
       "      <td>10s</td>\n",
       "    </tr>\n",
       "    <tr>\n",
       "      <th>1</th>\n",
       "      <td>F0001_IND_D_18_-45_02.jpg</td>\n",
       "      <td>female</td>\n",
       "      <td>10s</td>\n",
       "    </tr>\n",
       "    <tr>\n",
       "      <th>2</th>\n",
       "      <td>F0001_IND_D_18_-45_03.jpg</td>\n",
       "      <td>female</td>\n",
       "      <td>10s</td>\n",
       "    </tr>\n",
       "    <tr>\n",
       "      <th>3</th>\n",
       "      <td>F0001_IND_D_18_-45_04.jpg</td>\n",
       "      <td>female</td>\n",
       "      <td>10s</td>\n",
       "    </tr>\n",
       "    <tr>\n",
       "      <th>4</th>\n",
       "      <td>F0001_IND_D_18_-90_01.jpg</td>\n",
       "      <td>female</td>\n",
       "      <td>10s</td>\n",
       "    </tr>\n",
       "    <tr>\n",
       "      <th>...</th>\n",
       "      <td>...</td>\n",
       "      <td>...</td>\n",
       "      <td>...</td>\n",
       "    </tr>\n",
       "    <tr>\n",
       "      <th>54019</th>\n",
       "      <td>F0800_IND_GM_80_0_02.jpg</td>\n",
       "      <td>female</td>\n",
       "      <td>60s</td>\n",
       "    </tr>\n",
       "    <tr>\n",
       "      <th>54020</th>\n",
       "      <td>F0800_IND_GM_80_45_01.jpg</td>\n",
       "      <td>female</td>\n",
       "      <td>60s</td>\n",
       "    </tr>\n",
       "    <tr>\n",
       "      <th>54021</th>\n",
       "      <td>F0800_IND_GM_80_45_02.jpg</td>\n",
       "      <td>female</td>\n",
       "      <td>60s</td>\n",
       "    </tr>\n",
       "    <tr>\n",
       "      <th>54022</th>\n",
       "      <td>F0800_IND_GM_80_90_01.jpg</td>\n",
       "      <td>female</td>\n",
       "      <td>60s</td>\n",
       "    </tr>\n",
       "    <tr>\n",
       "      <th>54023</th>\n",
       "      <td>F0800_IND_GM_80_90_02.jpg</td>\n",
       "      <td>female</td>\n",
       "      <td>60s</td>\n",
       "    </tr>\n",
       "  </tbody>\n",
       "</table>\n",
       "<p>54024 rows × 3 columns</p>\n",
       "</div>"
      ],
      "text/plain": [
       "                        filename     sex age_class\n",
       "0      F0001_IND_D_18_-45_01.jpg  female       10s\n",
       "1      F0001_IND_D_18_-45_02.jpg  female       10s\n",
       "2      F0001_IND_D_18_-45_03.jpg  female       10s\n",
       "3      F0001_IND_D_18_-45_04.jpg  female       10s\n",
       "4      F0001_IND_D_18_-90_01.jpg  female       10s\n",
       "...                          ...     ...       ...\n",
       "54019   F0800_IND_GM_80_0_02.jpg  female       60s\n",
       "54020  F0800_IND_GM_80_45_01.jpg  female       60s\n",
       "54021  F0800_IND_GM_80_45_02.jpg  female       60s\n",
       "54022  F0800_IND_GM_80_90_01.jpg  female       60s\n",
       "54023  F0800_IND_GM_80_90_02.jpg  female       60s\n",
       "\n",
       "[54024 rows x 3 columns]"
      ]
     },
     "execution_count": 3,
     "metadata": {},
     "output_type": "execute_result"
    }
   ],
   "source": [
    "df=pd.read_csv(\"../../data/processed/01_processed_data/training/01_labels.csv\")\n",
    "df"
   ]
  },
  {
   "cell_type": "code",
   "execution_count": 4,
   "id": "9bc7ceda",
   "metadata": {},
   "outputs": [
    {
     "data": {
      "text/html": [
       "<div>\n",
       "<style scoped>\n",
       "    .dataframe tbody tr th:only-of-type {\n",
       "        vertical-align: middle;\n",
       "    }\n",
       "\n",
       "    .dataframe tbody tr th {\n",
       "        vertical-align: top;\n",
       "    }\n",
       "\n",
       "    .dataframe thead th {\n",
       "        text-align: right;\n",
       "    }\n",
       "</style>\n",
       "<table border=\"1\" class=\"dataframe\">\n",
       "  <thead>\n",
       "    <tr style=\"text-align: right;\">\n",
       "      <th></th>\n",
       "      <th>filename</th>\n",
       "      <th>sex</th>\n",
       "      <th>age_class</th>\n",
       "      <th>class_name</th>\n",
       "    </tr>\n",
       "  </thead>\n",
       "  <tbody>\n",
       "    <tr>\n",
       "      <th>0</th>\n",
       "      <td>F0001_IND_D_18_-45_01.jpg</td>\n",
       "      <td>female</td>\n",
       "      <td>10s</td>\n",
       "      <td>female_10s</td>\n",
       "    </tr>\n",
       "    <tr>\n",
       "      <th>1</th>\n",
       "      <td>F0001_IND_D_18_-45_02.jpg</td>\n",
       "      <td>female</td>\n",
       "      <td>10s</td>\n",
       "      <td>female_10s</td>\n",
       "    </tr>\n",
       "    <tr>\n",
       "      <th>2</th>\n",
       "      <td>F0001_IND_D_18_-45_03.jpg</td>\n",
       "      <td>female</td>\n",
       "      <td>10s</td>\n",
       "      <td>female_10s</td>\n",
       "    </tr>\n",
       "    <tr>\n",
       "      <th>3</th>\n",
       "      <td>F0001_IND_D_18_-45_04.jpg</td>\n",
       "      <td>female</td>\n",
       "      <td>10s</td>\n",
       "      <td>female_10s</td>\n",
       "    </tr>\n",
       "    <tr>\n",
       "      <th>4</th>\n",
       "      <td>F0001_IND_D_18_-90_01.jpg</td>\n",
       "      <td>female</td>\n",
       "      <td>10s</td>\n",
       "      <td>female_10s</td>\n",
       "    </tr>\n",
       "    <tr>\n",
       "      <th>...</th>\n",
       "      <td>...</td>\n",
       "      <td>...</td>\n",
       "      <td>...</td>\n",
       "      <td>...</td>\n",
       "    </tr>\n",
       "    <tr>\n",
       "      <th>54019</th>\n",
       "      <td>F0800_IND_GM_80_0_02.jpg</td>\n",
       "      <td>female</td>\n",
       "      <td>60s</td>\n",
       "      <td>female_60s</td>\n",
       "    </tr>\n",
       "    <tr>\n",
       "      <th>54020</th>\n",
       "      <td>F0800_IND_GM_80_45_01.jpg</td>\n",
       "      <td>female</td>\n",
       "      <td>60s</td>\n",
       "      <td>female_60s</td>\n",
       "    </tr>\n",
       "    <tr>\n",
       "      <th>54021</th>\n",
       "      <td>F0800_IND_GM_80_45_02.jpg</td>\n",
       "      <td>female</td>\n",
       "      <td>60s</td>\n",
       "      <td>female_60s</td>\n",
       "    </tr>\n",
       "    <tr>\n",
       "      <th>54022</th>\n",
       "      <td>F0800_IND_GM_80_90_01.jpg</td>\n",
       "      <td>female</td>\n",
       "      <td>60s</td>\n",
       "      <td>female_60s</td>\n",
       "    </tr>\n",
       "    <tr>\n",
       "      <th>54023</th>\n",
       "      <td>F0800_IND_GM_80_90_02.jpg</td>\n",
       "      <td>female</td>\n",
       "      <td>60s</td>\n",
       "      <td>female_60s</td>\n",
       "    </tr>\n",
       "  </tbody>\n",
       "</table>\n",
       "<p>54024 rows × 4 columns</p>\n",
       "</div>"
      ],
      "text/plain": [
       "                        filename     sex age_class  class_name\n",
       "0      F0001_IND_D_18_-45_01.jpg  female       10s  female_10s\n",
       "1      F0001_IND_D_18_-45_02.jpg  female       10s  female_10s\n",
       "2      F0001_IND_D_18_-45_03.jpg  female       10s  female_10s\n",
       "3      F0001_IND_D_18_-45_04.jpg  female       10s  female_10s\n",
       "4      F0001_IND_D_18_-90_01.jpg  female       10s  female_10s\n",
       "...                          ...     ...       ...         ...\n",
       "54019   F0800_IND_GM_80_0_02.jpg  female       60s  female_60s\n",
       "54020  F0800_IND_GM_80_45_01.jpg  female       60s  female_60s\n",
       "54021  F0800_IND_GM_80_45_02.jpg  female       60s  female_60s\n",
       "54022  F0800_IND_GM_80_90_01.jpg  female       60s  female_60s\n",
       "54023  F0800_IND_GM_80_90_02.jpg  female       60s  female_60s\n",
       "\n",
       "[54024 rows x 4 columns]"
      ]
     },
     "execution_count": 4,
     "metadata": {},
     "output_type": "execute_result"
    }
   ],
   "source": [
    "# 성별 + 나이 클래스 조합 -> 클래스명으로\n",
    "df[\"class_name\"]=df[\"sex\"]+\"_\"+df[\"age_class\"]\n",
    "df"
   ]
  },
  {
   "cell_type": "code",
   "execution_count": null,
   "id": "09e8386e",
   "metadata": {},
   "outputs": [
    {
     "name": "stdout",
     "output_type": "stream",
     "text": [
      "클래스 인덱스 매핑: {'female_10s': 0, 'female_20s': 1, 'female_30s': 2, 'female_40s': 3, 'female_50s': 4, 'female_60s': 5, 'male_10s': 6, 'male_20s': 7, 'male_30s': 8, 'male_40s': 9, 'male_50s': 10, 'male_60s': 11}\n"
     ]
    }
   ],
   "source": [
    "# 클래스명 -> 고유 인덱스 매핑\n",
    "class_names=sorted(df[\"class_name\"].unique())\n",
    "class_to_idx={name: idx for idx, name in enumerate(class_names)}\n",
    "print(f\"클래스 인덱스 매핑: {class_to_idx}\")"
   ]
  },
  {
   "cell_type": "code",
   "execution_count": 10,
   "id": "a7b834a0",
   "metadata": {},
   "outputs": [
    {
     "name": "stdout",
     "output_type": "stream",
     "text": [
      "0: female_10s\n",
      "1: female_20s\n",
      "2: female_30s\n",
      "3: female_40s\n",
      "4: female_50s\n",
      "5: female_60s\n",
      "6: male_10s\n",
      "7: male_20s\n",
      "8: male_30s\n",
      "9: male_40s\n",
      "10: male_50s\n",
      "11: male_60s\n"
     ]
    }
   ],
   "source": [
    "for name, idx in class_to_idx.items():\n",
    "    print(f\"{idx}: {name}\")"
   ]
  },
  {
   "cell_type": "code",
   "execution_count": null,
   "id": "d4e7485d",
   "metadata": {},
   "outputs": [],
   "source": [
    "BASE_DIR = \"../../data/processed/01_processed_data/training/YOLO_cls_dataset\"\n",
    "IMG_DIR = \"../../data/processed/01_processed_data/training/cropped_faces\"\n",
    "TRAIN_DIR = os.path.join(BASE_DIR, \"train\")\n",
    "VAL_DIR = os.path.join(BASE_DIR, \"val\")\n",
    "\n",
    "os.makedirs(TRAIN_DIR, exist_ok=True)\n",
    "os.makedirs(VAL_DIR, exist_ok=True)"
   ]
  },
  {
   "cell_type": "code",
   "execution_count": 7,
   "id": "582240b5",
   "metadata": {},
   "outputs": [],
   "source": [
    "# stratify를 위해 class_name 컬럼 기준으로 분리\n",
    "train_df, val_df = train_test_split(df, test_size=0.2, random_state=42,\n",
    "                                    stratify=df[\"class_name\"])  # stratify: 미적용시 클래스가 valid에 할당되지 않음\n",
    "                                                                # 즉 클래스 분포에는 test_size 비율이 적용안됨\n",
    "                                                                # -> train단계에서 특정 클래스에 대해 학습해도 valid 단게에서 검증 불가\n",
    "                                                                # 따라서 stratify을 사용해야 클래스 분포 비율까지 맞춰 줌  "
   ]
  },
  {
   "cell_type": "code",
   "execution_count": 8,
   "id": "0ae345b8",
   "metadata": {},
   "outputs": [],
   "source": [
    "# 이미지 복사 함수\n",
    "def copy_images(split_df, mode_dir):\n",
    "    for _, row in tqdm(split_df.iterrows(), total=len(split_df)):\n",
    "        src_img_path = os.path.join(IMG_DIR, row[\"filename\"])\n",
    "        class_folder = str(class_to_idx[row[\"class_name\"]])\n",
    "        dest_folder = os.path.join(mode_dir, class_folder)\n",
    "        os.makedirs(dest_folder, exist_ok=True)\n",
    "\n",
    "        dst_img_path = os.path.join(dest_folder, row[\"filename\"])\n",
    "        shutil.copy2(src_img_path, dst_img_path)"
   ]
  },
  {
   "cell_type": "code",
   "execution_count": 9,
   "id": "7c01e19b",
   "metadata": {},
   "outputs": [
    {
     "name": "stderr",
     "output_type": "stream",
     "text": [
      "100%|██████████| 43219/43219 [15:14<00:00, 47.26it/s] \n",
      "100%|██████████| 10805/10805 [02:02<00:00, 88.46it/s] "
     ]
    },
    {
     "name": "stdout",
     "output_type": "stream",
     "text": [
      "YOLOv8 classification 구조로 변환 완료\n"
     ]
    },
    {
     "name": "stderr",
     "output_type": "stream",
     "text": [
      "\n"
     ]
    }
   ],
   "source": [
    "copy_images(train_df, TRAIN_DIR)\n",
    "copy_images(val_df, VAL_DIR)\n",
    "print(\"YOLOv8 classification 구조로 변환 완료\")"
   ]
  },
  {
   "cell_type": "markdown",
   "id": "2c7f4043",
   "metadata": {},
   "source": [
    "# 2. Model Training\n",
    "> YOLOv8-cls: 분류 전용 사전학습 모델\n",
    "\n",
    "in colab.  "
   ]
  },
  {
   "cell_type": "markdown",
   "id": "14ccd6ef",
   "metadata": {},
   "source": [
    "# 3. VAL DATA Pre-Processing"
   ]
  },
  {
   "cell_type": "markdown",
   "id": "da21aef4",
   "metadata": {},
   "source": [
    "## 3.1. Resize IMG & Make csv file with labeling "
   ]
  },
  {
   "cell_type": "code",
   "execution_count": null,
   "id": "ee2a67ca",
   "metadata": {},
   "outputs": [],
   "source": [
    "# 경로 설정\n",
    "ZIP_IMG_PATH = \"../../data/raw/validation/image_data/V_image_data.zip\"\n",
    "ZIP_LABEL_PATH = \"../../data/raw/validation/labeling_data/V_labeling_data.zip\"\n",
    "OUTPUT_DIR = \"../../data/processed/01_processed_data/validation/resized_faces\"\n",
    "CSV_PATH = \"../../data/processed/01_processed_data/validation/val_labels.csv\""
   ]
  },
  {
   "cell_type": "code",
   "execution_count": 14,
   "id": "259adc83",
   "metadata": {},
   "outputs": [],
   "source": [
    "os.makedirs(OUTPUT_DIR, exist_ok=True)"
   ]
  },
  {
   "cell_type": "code",
   "execution_count": 15,
   "id": "4af38d4b",
   "metadata": {},
   "outputs": [],
   "source": [
    "# 성별 mapping\n",
    "sex_Male_list = ['GF', 'F', 'S', 'S1', 'S2', 'S3', 'S4']\n",
    "sex_Female_list = ['GM', 'M', 'D', 'D1', 'D2', 'D3', 'D4']"
   ]
  },
  {
   "cell_type": "code",
   "execution_count": 16,
   "id": "30cb4baa",
   "metadata": {},
   "outputs": [],
   "source": [
    "# ZIP 파일 열기\n",
    "img_zip = zipfile.ZipFile(ZIP_IMG_PATH, \"r\")\n",
    "json_zip = zipfile.ZipFile(ZIP_LABEL_PATH, \"r\")\n",
    "img_names = [name for name in img_zip.namelist() if name.endswith(\".JPG\") or name.endswith(\".jpg\")]"
   ]
  },
  {
   "cell_type": "code",
   "execution_count": 17,
   "id": "35fd8a25",
   "metadata": {},
   "outputs": [],
   "source": [
    "# CSV 파일 저장용\n",
    "csv_rows = []"
   ]
  },
  {
   "cell_type": "code",
   "execution_count": 18,
   "id": "e462d116",
   "metadata": {},
   "outputs": [
    {
     "name": "stderr",
     "output_type": "stream",
     "text": [
      "100%|██████████| 3200/3200 [05:50<00:00,  9.12it/s]\n"
     ]
    }
   ],
   "source": [
    "for img_name in tqdm(img_names):\n",
    "    base_name = os.path.basename(img_name).split(\".\")[0]\n",
    "    json_name = base_name + \".json\"\n",
    "\n",
    "    try:\n",
    "        # 이미지 파일 로드\n",
    "        img_data = img_zip.read(img_name)\n",
    "        img = Image.open(io.BytesIO(img_data)).convert(\"RGB\")\n",
    "\n",
    "        # JSON 파일 로드\n",
    "        json_data = json.load(io.TextIOWrapper(json_zip.open(json_name), encoding=\"utf-8\"))\n",
    "        member = json_data[\"member\"][0]\n",
    "\n",
    "        # 성별\n",
    "        personal_sex = member[\"personal_id\"].upper()\n",
    "        if personal_sex in sex_Male_list:\n",
    "            sex = \"male\"\n",
    "        elif personal_sex in sex_Female_list:\n",
    "            sex = \"female\"\n",
    "        else:\n",
    "            continue\n",
    "\n",
    "        # 나이 클래스\n",
    "        age = int(member[\"age\"])\n",
    "        if age < 20:\n",
    "            age_class = \"10s\"\n",
    "        elif age < 30:\n",
    "            age_class = \"20s\"\n",
    "        elif age < 40:\n",
    "            age_class = \"30s\"\n",
    "        elif age < 50:\n",
    "            age_class = \"40s\"\n",
    "        elif age < 60:\n",
    "            age_class = \"50s\"\n",
    "        else:\n",
    "            age_class = \"60s\"\n",
    "\n",
    "        # resize만 수행\n",
    "        resized = img.resize((224, 224))\n",
    "        save_name = base_name + \".jpg\"\n",
    "        resized.save(os.path.join(OUTPUT_DIR, save_name))\n",
    "\n",
    "        # CSV 라벨 기록\n",
    "        csv_rows.append({\"filename\": save_name, \"sex\": sex, \"age_class\": age_class})\n",
    "\n",
    "    except Exception as e:\n",
    "        print(f\"{img_name}에서 에러 발생: {e}\")\n",
    "        continue\n",
    "\n",
    "# CSV 저장\n",
    "df = pd.DataFrame(csv_rows)\n",
    "df.to_csv(CSV_PATH, index=False)"
   ]
  },
  {
   "cell_type": "markdown",
   "id": "0b8eb7c2",
   "metadata": {},
   "source": [
    "## 3.2. EDA"
   ]
  },
  {
   "cell_type": "code",
   "execution_count": null,
   "id": "c7ab00e4",
   "metadata": {},
   "outputs": [
    {
     "name": "stdout",
     "output_type": "stream",
     "text": [
      "sex\n",
      "female    1690\n",
      "male      1510\n",
      "Name: count, dtype: int64 \n",
      "\n",
      "age_class\n",
      "10s    1250\n",
      "40s     600\n",
      "20s     440\n",
      "50s     430\n",
      "30s     290\n",
      "60s     190\n",
      "Name: count, dtype: int64\n"
     ]
    },
    {
     "data": {
      "text/html": [
       "<div>\n",
       "<style scoped>\n",
       "    .dataframe tbody tr th:only-of-type {\n",
       "        vertical-align: middle;\n",
       "    }\n",
       "\n",
       "    .dataframe tbody tr th {\n",
       "        vertical-align: top;\n",
       "    }\n",
       "\n",
       "    .dataframe thead th {\n",
       "        text-align: right;\n",
       "    }\n",
       "</style>\n",
       "<table border=\"1\" class=\"dataframe\">\n",
       "  <thead>\n",
       "    <tr style=\"text-align: right;\">\n",
       "      <th></th>\n",
       "      <th>filename</th>\n",
       "      <th>sex</th>\n",
       "      <th>age_class</th>\n",
       "    </tr>\n",
       "  </thead>\n",
       "  <tbody>\n",
       "    <tr>\n",
       "      <th>0</th>\n",
       "      <td>F0801_IND_F_48_-45_01.jpg</td>\n",
       "      <td>male</td>\n",
       "      <td>40s</td>\n",
       "    </tr>\n",
       "    <tr>\n",
       "      <th>1</th>\n",
       "      <td>F0801_IND_F_48_-45_02.jpg</td>\n",
       "      <td>male</td>\n",
       "      <td>40s</td>\n",
       "    </tr>\n",
       "  </tbody>\n",
       "</table>\n",
       "</div>"
      ],
      "text/plain": [
       "                    filename   sex age_class\n",
       "0  F0801_IND_F_48_-45_01.jpg  male       40s\n",
       "1  F0801_IND_F_48_-45_02.jpg  male       40s"
      ]
     },
     "metadata": {},
     "output_type": "display_data"
    },
    {
     "data": {
      "text/html": [
       "<div>\n",
       "<style scoped>\n",
       "    .dataframe tbody tr th:only-of-type {\n",
       "        vertical-align: middle;\n",
       "    }\n",
       "\n",
       "    .dataframe tbody tr th {\n",
       "        vertical-align: top;\n",
       "    }\n",
       "\n",
       "    .dataframe thead th {\n",
       "        text-align: right;\n",
       "    }\n",
       "</style>\n",
       "<table border=\"1\" class=\"dataframe\">\n",
       "  <thead>\n",
       "    <tr style=\"text-align: right;\">\n",
       "      <th></th>\n",
       "      <th>filename</th>\n",
       "      <th>sex</th>\n",
       "      <th>age_class</th>\n",
       "    </tr>\n",
       "  </thead>\n",
       "  <tbody>\n",
       "    <tr>\n",
       "      <th>3198</th>\n",
       "      <td>F0900_IND_M_57_90_01.jpg</td>\n",
       "      <td>female</td>\n",
       "      <td>50s</td>\n",
       "    </tr>\n",
       "    <tr>\n",
       "      <th>3199</th>\n",
       "      <td>F0900_IND_M_57_90_02.jpg</td>\n",
       "      <td>female</td>\n",
       "      <td>50s</td>\n",
       "    </tr>\n",
       "  </tbody>\n",
       "</table>\n",
       "</div>"
      ],
      "text/plain": [
       "                      filename     sex age_class\n",
       "3198  F0900_IND_M_57_90_01.jpg  female       50s\n",
       "3199  F0900_IND_M_57_90_02.jpg  female       50s"
      ]
     },
     "metadata": {},
     "output_type": "display_data"
    }
   ],
   "source": [
    "val_df=pd.read_csv(\"../../data/processed/01_processed_data/validation/val_labels.csv\")\n",
    "print(val_df['sex'].value_counts(),\"\\n\")\n",
    "print(val_df['age_class'].value_counts())\n",
    "display(val_df.head(2))\n",
    "display(val_df.tail(2))"
   ]
  },
  {
   "cell_type": "code",
   "execution_count": 5,
   "id": "10969e90",
   "metadata": {},
   "outputs": [
    {
     "data": {
      "image/png": "[encoded data removed]",
      "text/plain": [
       "<Figure size 1200x500 with 2 Axes>"
      ]
     },
     "metadata": {},
     "output_type": "display_data"
    }
   ],
   "source": [
    "plt.figure(figsize=(12, 5))\n",
    "\n",
    "# 성별 파이차트\n",
    "plt.subplot(1, 2, 1)\n",
    "gender_counts = val_df['sex'].value_counts()\n",
    "plt.pie(gender_counts, labels=gender_counts.index, autopct='%1.1f%%', startangle=140, colors=[\"lightcoral\", \"skyblue\"])\n",
    "plt.title(\"Gender Distribution\")\n",
    "\n",
    "# 연령대 파이차트\n",
    "plt.subplot(1, 2, 2)\n",
    "age_counts = val_df['age_class'].value_counts().reindex(['10s','20s','30s','40s','50s','60s'])\n",
    "plt.pie(age_counts, labels=age_counts.index, autopct='%1.1f%%', startangle=140)\n",
    "plt.title(\"Age Class Distribution\")\n",
    "\n",
    "plt.tight_layout()\n",
    "plt.show()"
   ]
  }
 ],
 "metadata": {
  "kernelspec": {
   "display_name": "firstENV",
   "language": "python",
   "name": "python3"
  },
  "language_info": {
   "codemirror_mode": {
    "name": "ipython",
    "version": 3
   },
   "file_extension": ".py",
   "mimetype": "text/x-python",
   "name": "python",
   "nbconvert_exporter": "python",
   "pygments_lexer": "ipython3",
   "version": "3.10.18"
  }
 },
 "nbformat": 4,
 "nbformat_minor": 5
}
