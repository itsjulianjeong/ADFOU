{
 "cells": [
  {
   "cell_type": "code",
   "execution_count": null,
   "id": "d15cf14f",
   "metadata": {},
   "outputs": [
    {
     "ename": "",
     "evalue": "",
     "output_type": "error",
     "traceback": [
      "\u001b[1;31m'base (Python 3.11.13)'(으)로 셀을 실행하려면 ipykernel 패키지가 필요합니다.\n",
      "\u001b[1;31m'ipykernel'을(를) Python 환경에 설치합니다. \n",
      "\u001b[1;31m명령: 'conda install -n base ipykernel --update-deps --force-reinstall'"
     ]
    }
   ],
   "source": [
    "import pandas as pd\n",
    "from pathlib import Path\n",
    "from PIL import Image\n",
    "import torch\n",
    "from torchvision import transforms\n",
    "from ultralytics import YOLO\n",
    "from sklearn.metrics import classification_report"
   ]
  },
  {
   "cell_type": "code",
   "execution_count": null,
   "id": "bfa2ed93",
   "metadata": {},
   "outputs": [],
   "source": [
    "# 모델 로드\n",
    "model_path = \"../../src/models/01_YOLO_cls_saved_model/weights/best.pt\"\n",
    "model = YOLO(model_path)"
   ]
  },
  {
   "cell_type": "code",
   "execution_count": 30,
   "id": "ffe8510a",
   "metadata": {},
   "outputs": [],
   "source": [
    "# 클래스 이름 설정\n",
    "class_names = sorted([\n",
    "    'female_10s', 'female_20s', 'female_30s', 'female_40s', 'female_50s', 'female_60s',\n",
    "    'male_10s', 'male_20s', 'male_30s', 'male_40s', 'male_50s', 'male_60s'\n",
    "])\n",
    "class_to_idx = {cls_name: i for i, cls_name in enumerate(class_names)}"
   ]
  },
  {
   "cell_type": "code",
   "execution_count": null,
   "id": "ffa94e5f",
   "metadata": {},
   "outputs": [],
   "source": [
    "# Validation CSV 로드\n",
    "val_df = pd.read_csv(\"../../data/processed/01_processed_data/validation/val_labels.csv\")\n",
    "val_df[\"class_name\"] = val_df[\"sex\"] + \"_\" + val_df[\"age_class\"]\n",
    "\n",
    "# 이미지 경로 설정\n",
    "val_image_dir = Path(\"../../data/processed/01_processed_data/validation/resized_faces\")\n",
    "\n",
    "# 이미지 전처리\n",
    "transform = transforms.Compose([\n",
    "    transforms.Resize((224, 224)),\n",
    "    transforms.ToTensor(),\n",
    "    transforms.Normalize([0.5]*3, [0.5]*3)\n",
    "])"
   ]
  },
  {
   "cell_type": "code",
   "execution_count": 33,
   "id": "5945e220",
   "metadata": {},
   "outputs": [],
   "source": [
    "# 예측\n",
    "y_true, y_pred = [], []\n",
    "\n",
    "for _, row in val_df.iterrows():\n",
    "    img_path = val_image_dir / row[\"filename\"]\n",
    "    if not img_path.exists():\n",
    "        continue\n",
    "\n",
    "    img = Image.open(img_path).convert(\"RGB\")\n",
    "    img_tensor = transform(img).unsqueeze(0)\n",
    "\n",
    "    with torch.no_grad():\n",
    "        results = model(img_tensor, verbose=False)\n",
    "        pred = results[0].probs.top1  # 이건 int\n",
    "        y_pred.append(pred)\n",
    "\n",
    "    y_true.append(class_to_idx[row[\"class_name\"]])"
   ]
  },
  {
   "cell_type": "code",
   "execution_count": 34,
   "id": "198d010d",
   "metadata": {},
   "outputs": [
    {
     "name": "stdout",
     "output_type": "stream",
     "text": [
      "              precision    recall  f1-score   support\n",
      "\n",
      "  female_10s       0.32      0.01      0.02       620\n",
      "  female_20s       0.13      0.66      0.22       260\n",
      "  female_30s       0.02      0.03      0.02       150\n",
      "  female_40s       0.11      0.04      0.06       350\n",
      "  female_50s       0.00      0.00      0.00       230\n",
      "  female_60s       0.02      0.14      0.03        80\n",
      "    male_10s       0.19      0.05      0.08       630\n",
      "    male_20s       0.01      0.01      0.01       180\n",
      "    male_30s       0.08      0.15      0.11       140\n",
      "    male_40s       0.10      0.04      0.06       250\n",
      "    male_50s       0.08      0.05      0.06       200\n",
      "    male_60s       0.03      0.04      0.03       110\n",
      "\n",
      "    accuracy                           0.09      3200\n",
      "   macro avg       0.09      0.10      0.06      3200\n",
      "weighted avg       0.14      0.09      0.06      3200\n",
      "\n"
     ]
    }
   ],
   "source": [
    "print(classification_report(y_true, y_pred, target_names=list(class_to_idx.keys())))"
   ]
  },
  {
   "cell_type": "markdown",
   "id": "56ced787",
   "metadata": {},
   "source": [
    "# ⭐문제점 발견 및 보완사항\n",
    "너무 낮게 나와서 찾아보니  \n",
    "\n",
    "1. 성별 + 연령대인 Multi-label 분류에는 YOLO보다는 CNN 전이학습 모델이 훨씬 더 적합하다고 한다.  \n",
    "\n",
    "2. YOLOv8-cls는 단일 클래스만 예측하도록 설계되어 있다.  \n",
    "그래서 'female_20s' 과 같은 복합 클래스를 단일 클래스로 봐야 한다.  \n",
    "그런데 클래스가 12개가 되니까 학습 분산이 생기고, 이로 인해 하나하나 정확도가 떨어지는 문제가 생긴다.  \n",
    "\n",
    "3. 데이터 증강이 필요하다.  \n",
    "밝기, 줌 사이즈, 각도 등에 대한 증강을 통해 머리카락, 안경, 주름, 조명 같은 성별과 연령 구분에 도움을 주어야 한다.  "
   ]
  }
 ],
 "metadata": {
  "kernelspec": {
   "display_name": "base",
   "language": "python",
   "name": "python3"
  },
  "language_info": {
   "codemirror_mode": {
    "name": "ipython",
    "version": 3
   },
   "file_extension": ".py",
   "mimetype": "text/x-python",
   "name": "python",
   "nbconvert_exporter": "python",
   "pygments_lexer": "ipython3",
   "version": "3.11.13"
  }
 },
 "nbformat": 4,
 "nbformat_minor": 5
}
